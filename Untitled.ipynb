{
 "cells": [
  {
   "cell_type": "code",
   "execution_count": 5,
   "metadata": {},
   "outputs": [],
   "source": [
    "a = ['United_States_Department_of_Homeland_Security',\n",
    "                     'Federal_Emergency_Management_Agency',\n",
    "                     'Coast_guard',\n",
    "                     'Customs_and_Border_Protection',\n",
    "                     'Border_Patrol',\n",
    "                     'Secret_Service',\n",
    "                     'Bureau_of_Land_Management',\n",
    "                     'Homeland_defense',\n",
    "                     'Espionage',\n",
    "                     'Task_Force_88_(anti-terrorist_unit)',\n",
    "                     'Central_Intelligence_Agency',\n",
    "                     'Fusion_center',\n",
    "                     'DEA',\n",
    "                     'Secure_Border_Initiative',\n",
    "                     'Federal_Bureau_of_Investigation',\n",
    "                     'Alcohol_and_Tobacco_Tax_and_Trade_Bureau',\n",
    "                     'United_States_Citizenship_and_Immigration_Services',\n",
    "                     'Federal_Air_Marshal_Service',\n",
    "                     'Transportation_Security_Administration',\n",
    "                     'Air_marshal',\n",
    "                     'Federal_Aviation_Administration',\n",
    "                     'National_Guard',\n",
    "                     'Emergency_management',\n",
    "                     'U.S._Immigration_and_Customs_Enforcement',\n",
    "                     'United_Nations']"
   ]
  },
  {
   "cell_type": "code",
   "execution_count": 6,
   "metadata": {},
   "outputs": [
    {
     "name": "stdout",
     "output_type": "stream",
     "text": [
      "United_States_Department_of_Homeland_Security\n",
      "Federal_Emergency_Management_Agency\n",
      "Coast_guard\n",
      "Customs_and_Border_Protection\n",
      "Border_Patrol\n",
      "Secret_Service\n",
      "Bureau_of_Land_Management\n",
      "Homeland_defense\n",
      "Espionage\n",
      "Task_Force_88_(anti-terrorist_unit)\n",
      "Central_Intelligence_Agency\n",
      "Fusion_center\n",
      "DEA\n",
      "Secure_Border_Initiative\n",
      "Federal_Bureau_of_Investigation\n",
      "Alcohol_and_Tobacco_Tax_and_Trade_Bureau\n",
      "United_States_Citizenship_and_Immigration_Services\n",
      "Federal_Air_Marshal_Service\n",
      "Transportation_Security_Administration\n",
      "Air_marshal\n",
      "Federal_Aviation_Administration\n",
      "National_Guard\n",
      "Emergency_management\n",
      "U.S._Immigration_and_Customs_Enforcement\n",
      "United_Nations\n"
     ]
    }
   ],
   "source": [
    "print('\\n'.join(a))"
   ]
  },
  {
   "cell_type": "code",
   "execution_count": null,
   "metadata": {},
   "outputs": [],
   "source": []
  }
 ],
 "metadata": {
  "kernelspec": {
   "display_name": "Python 3",
   "language": "python",
   "name": "python3"
  },
  "language_info": {
   "codemirror_mode": {
    "name": "ipython",
    "version": 3
   },
   "file_extension": ".py",
   "mimetype": "text/x-python",
   "name": "python",
   "nbconvert_exporter": "python",
   "pygments_lexer": "ipython3",
   "version": "3.8.5"
  }
 },
 "nbformat": 4,
 "nbformat_minor": 4
}
